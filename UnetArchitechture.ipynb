{
 "cells": [
  {
   "cell_type": "markdown",
   "metadata": {
    "id": "ZmrF5h3Uqd5f"
   },
   "source": [
    "# Lab 13 - Unet achitecture implimentaytion in pytorch"
   ]
  },
  {
   "cell_type": "markdown",
   "metadata": {
    "id": "7NnhQi5HqqIr"
   },
   "source": [
    "importing **pytorch** and other **libraries** "
   ]
  },
  {
   "cell_type": "code",
   "execution_count": null,
   "metadata": {
    "id": "HCDo-Zoh0BhC"
   },
   "outputs": [],
   "source": [
    "import torch\n",
    "import os\n",
    "from torch.utils.data import Dataset\n",
    "import cv2\n",
    "from torch.nn import ConvTranspose2d\n",
    "from torch.nn import Conv2d\n",
    "from torch.nn import ReLU\n",
    "from torchvision import transforms\n",
    "from torch.nn import functional as F\n",
    "from torch.nn import BCEWithLogitsLoss\n",
    "from torch.nn import ModuleList\n",
    "from torch.optim import Adam\n",
    "from torchvision.transforms import CenterCrop\n",
    "from sklearn.model_selection import train_test_split\n",
    "from torch.utils.data import DataLoader\n",
    "from torch.nn import MaxPool2d\n",
    "from torch.nn import Module\n",
    "from imutils import paths\n",
    "from tqdm import tqdm\n",
    "import matplotlib.pyplot as plt\n",
    "import numpy as np"
   ]
  },
  {
   "cell_type": "code",
   "execution_count": null,
   "metadata": {
    "colab": {
     "base_uri": "https://localhost:8080/"
    },
    "id": "Bod4eZHHNRRt",
    "outputId": "b317159e-497b-4a8b-9978-852e72ef93a6"
   },
   "outputs": [
    {
     "name": "stdout",
     "output_type": "stream",
     "text": [
      "Drive already mounted at /content/drive; to attempt to forcibly remount, call drive.mount(\"/content/drive\", force_remount=True).\n"
     ]
    }
   ],
   "source": [
    "from google.colab import drive\n",
    "drive.mount('/content/drive')"
   ]
  },
  {
   "cell_type": "code",
   "execution_count": null,
   "metadata": {
    "id": "vYzrKx9L_Baw"
   },
   "outputs": [],
   "source": [
    "classes = 1 #binary classes so -> one_class\n",
    "depths = 3 # and number of levels/depth in the U-Net model\n",
    "batch_size = 44  \n",
    "# reshaping dimensions of input images\n",
    "w_inpImg , h_inpImg = 128 , 128\n",
    "# if device gpu-> cuda else cpu\n",
    "device = \"cuda\" if torch.cuda.is_available() else \"cpu\"\n",
    "# memory usame detrmined for dataloader part\n",
    "memory_usage = True if device == \"cuda\" else False\n",
    "# root directory path of the dataset\n",
    "rootdir = os.path.join(\"/content/drive/MyDrive/dataset2\", \"train\")\n",
    "images_data = os.path.join(rootdir, \"images\")\n",
    "masks_data = os.path.join(rootdir, \"masks\")"
   ]
  },
  {
   "cell_type": "code",
   "execution_count": null,
   "metadata": {
    "id": "dYKEhmAc3aSL"
   },
   "outputs": [],
   "source": []
  },
  {
   "cell_type": "code",
   "execution_count": null,
   "metadata": {
    "id": "kpSF_9vwepZP"
   },
   "outputs": [],
   "source": []
  },
  {
   "cell_type": "markdown",
   "metadata": {
    "id": "eDW0VyfgAgjz"
   },
   "source": [
    "### **Class**: Salt resources identification dataset \n",
    "\n",
    "---\n"
   ]
  },
  {
   "cell_type": "code",
   "execution_count": null,
   "metadata": {
    "id": "F3KfVdUEAiKn"
   },
   "outputs": [],
   "source": [
    "class SaltDataset(Dataset):\n",
    "\tdef __init__(self, imgPaths, maskPaths, transforms):\n",
    "\n",
    "\t\t#initializing wiith params\n",
    "\t\tself.maskPaths = maskPaths\n",
    "\t\tself.imgPaths = imgPaths\n",
    "\t\tself.transforms = transforms\n",
    "\n",
    "# defined functions of len and detitem for the given pytorch dataset class\n",
    "\tdef __len__(self):\n",
    "\t\treturn len(self.imgPaths) # len of the total images containes in the train folder\n",
    "\t\n",
    "\tdef __getitem__(self, index):\n",
    "\t\timagePath = self.imgPaths[index]\n",
    "\t\t#image processing using numpy and opencv(converting images from BGR->RGB aand segementation mask of image to -> grayscale)\n",
    "\t\timage = cv2.imread(imagePath)\n",
    "\t\timage = cv2.cvtColor(image, cv2.COLOR_BGR2RGB)\n",
    "\t\tmask = cv2.imread(self.maskPaths[index], 0)\n",
    "\t#transformations part \n",
    "\t\tif self.transforms is not None:\n",
    "\t\t\t#apply defined transformations to both image and seg mask\n",
    "\t\t\tmyimage = self.transforms(image)\n",
    "\t\t\tmymask = self.transforms(mask)\n",
    "\t\treturn (myimage, mymask)"
   ]
  },
  {
   "cell_type": "markdown",
   "metadata": {
    "id": "SzO04QmgArJS"
   },
   "source": [
    "### **Class**: Unit for each unit of architecture\n",
    "\n",
    "> **Class Encoder**: left part of architecteure\n",
    "\n",
    "\n",
    "> **Class Decoder**: right part of architecteure\n",
    "\n",
    "> **Main parent class** of model implimentation\n",
    "\n",
    "\n",
    "\n"
   ]
  },
  {
   "cell_type": "code",
   "execution_count": null,
   "metadata": {
    "id": "10OcSihHAnFV"
   },
   "outputs": [],
   "source": []
  },
  {
   "cell_type": "code",
   "execution_count": null,
   "metadata": {
    "id": "T19NbyGxcShj"
   },
   "outputs": [],
   "source": [
    "# Architechture implimentation \n",
    "class Unit (Module):\n",
    "\tdef __init__(self, inChannels, outChannels):\n",
    "\t\tsuper().__init__()\n",
    "\t\t#desighn  each unit structure (conv + relu + conv )\n",
    "\t\tself.conv1 = Conv2d(inChannels, outChannels, 3)\n",
    "\t\tself.relu = ReLU()\n",
    "\t\tself.conv2 = Conv2d(outChannels, outChannels, 3)\n",
    "\t\n",
    "\tdef forward(self, x):\n",
    "\t\t# apply  each unit structure (conv + relu + conv ) to every image and return results\n",
    "\t\tx = self.conv1(x)\n",
    "\t\ty = self.relu(x)\n",
    "\t\ty_hat = self.conv2(y)\n",
    "\t\n",
    "\t\treturn y_hat \n",
    "\n",
    "# --------------------------------Left part of architechture----------------\n",
    "class LeftEncoder (Module):\n",
    "\tdef __init__(self, channels=(3, 16, 32, 64)):\n",
    "\t\tsuper().__init__()\n",
    "\t\t# modulet llist to iterate over the left part of encoder\n",
    "\t\tself.encoderBlks = ModuleList( [Unit(channels[i], channels[i + 1]) for i in range(len(channels) - 1)])\n",
    "\t#maxpool layer of arc\n",
    "\t\tself.pool = MaxPool2d(2)\n",
    "\t\n",
    "\tdef forward(self, x):\n",
    "\t\t# initializing a list to store the each blocks output for decoder input\n",
    "\t\teach_block_Out = []\n",
    "\t\t#looping over each block \n",
    "\t\tfor each in self.encoderBlks:\n",
    "\t\t\tx = each(x) # encoder gives an output thet\n",
    "\t\t\teach_block_Out.append(x) # is stored in tha list \n",
    "\t\t\tx = self.pool(x) # and then max pool is used\n",
    "\t\treturn each_block_Out\n",
    "\n",
    "#--------------------------------Right part of architechture----------------\n",
    "class RightDecoder(Module):\n",
    "\tdef __init__(self, channels=(64, 32, 16)):\n",
    "\t\tsuper().__init__()\n",
    "\t\t# with the help of module list we are able to to again rehape yto orignnal image shape using  up convolution and decoder\n",
    "\t\t# blocks respectively\n",
    "\t\tself.channels = channels # number of chennals\n",
    "\t\tself.upconvs = ModuleList( [ConvTranspose2d(channels[i], channels[i + 1], 2, 2) for i in range(len(channels) - 1)])\n",
    "\t\tself.dec_blocks = ModuleList( [Unit(channels[i], channels[i + 1]) \tfor i in range(len(channels) - 1)])\n",
    "\t\n",
    "\tdef forward(self, x, encoderFeatures):\n",
    "\t\tfor i in range(len(self.channels) - 1):\n",
    "\t\t\t# each encoder outpute passes throuhgh upconvolution\n",
    "\t\t\tx = self.upconvs[i](x)\n",
    "#now here we conCat the output of each encoder output and add to decoder input\n",
    "\t\t\tencFeat = self.crop(encoderFeatures[i], x)\n",
    "\t\t\tx = torch.cat([x, encFeat], dim=1)\n",
    "\t\t\tx = self.dec_blocks[i](x)\n",
    "\t\treturn x\n",
    "\n",
    "\tdef crop(self, encoderFeatures, x):\n",
    "\t\t(_, _, Hght, Wdth) = x.shape\n",
    "\t\t\t# cropping features to desired dimentions\n",
    "\t\tencoderFeatures = CenterCrop([Hght, Wdth])(encoderFeatures)\n",
    "\t\treturn encoderFeatures\n",
    "#----------------------------------------------MAIN MODEL CLASS----------------------------\n",
    "class UNet(Module):\n",
    "\tdef __init__(self, encoderChannels=(3, 16, 32, 64), decoderChannels=(64, 32, 16), numClasses=1, retainDim=True, outSize=(h_inpImg,  w_inpImg)):\n",
    "\t\tsuper().__init__()\n",
    "\t\t# encoder and decoder for the model \n",
    "\t\tself.encoder = LeftEncoder(encoderChannels)\n",
    "\t\tself.decoder = RightDecoder(decoderChannels)\n",
    "\t\tself.parent = Conv2d(decoderChannels[-1], numClasses, 1) # storing the given class variables\n",
    "\t\tself.retainDim = retainDim # we have to get the orignal dimentions back \n",
    "\t\tself.outSize = outSize # output size mentions\n",
    "\n",
    "\tdef forward(self, x):\n",
    "\t\tencoderFeatures = self.encoder(x) # get features from encPart\n",
    "\t\t# now passing each feature in reverse order bacause now we are moving down to up\n",
    "\t\tdecoderFeatures = self.decoder(encoderFeatures[::-1][0], encoderFeatures[::-1][1:])\n",
    "\t\t# pasiing feat to conv2d from decoder channels to have th esegmentations mask of each\n",
    "\t\tseg_mask = self.parent(decoderFeatures)\n",
    "\t\t# interpolation and resizing the out put\n",
    "\t\tif self.retainDim:\n",
    "\t\t\tseg_mask = F.interpolate(seg_mask, self.outSize)\n",
    "\t\treturn seg_mask\n",
    "  "
   ]
  },
  {
   "cell_type": "code",
   "execution_count": null,
   "metadata": {
    "id": "70-GKFuMcT06"
   },
   "outputs": [],
   "source": []
  },
  {
   "cell_type": "markdown",
   "metadata": {
    "id": "39f68WWABfHr"
   },
   "source": [
    "### Splitting data into training/testing on Slat resource identification dataset (using *sckit-learn*)"
   ]
  },
  {
   "cell_type": "code",
   "execution_count": null,
   "metadata": {
    "id": "zRTy-bDnBgvo"
   },
   "outputs": [],
   "source": []
  },
  {
   "cell_type": "code",
   "execution_count": null,
   "metadata": {
    "colab": {
     "base_uri": "https://localhost:8080/"
    },
    "id": "A_E8vk4zBqNO",
    "outputId": "b4793af2-36c2-470c-9d6e-a6c9c7cf67f9"
   },
   "outputs": [
    {
     "name": "stdout",
     "output_type": "stream",
     "text": [
      "\t Data split and  saving completed ...!\n"
     ]
    }
   ],
   "source": [
    "# sorting eah images and masks, given -> paths\n",
    "imgPaths = sorted(list(paths.list_images(images_data)))\n",
    "maskPaths = sorted(list(paths.list_images(masks_data)))\n",
    "#splitting train test split using sk-learn library\n",
    "split = train_test_split(imgPaths, maskPaths, test_size=0.15, random_state=42)\n",
    "(trainImages, testImages) = split[:2]\n",
    "(trainMasks, testMasks) = split[2:]\n",
    "\n",
    "print(\"\\t Data split and  saving completed ...!\")"
   ]
  },
  {
   "cell_type": "code",
   "execution_count": null,
   "metadata": {
    "id": "PNF4KUUdX9EC"
   },
   "outputs": [],
   "source": [
    "# applying transformations"
   ]
  },
  {
   "cell_type": "code",
   "execution_count": null,
   "metadata": {
    "colab": {
     "base_uri": "https://localhost:8080/"
    },
    "id": "tVGkXq55ByiO",
    "outputId": "a1a3bd0e-7839-44cf-c768-6031bc1ff5a1"
   },
   "outputs": [
    {
     "name": "stdout",
     "output_type": "stream",
     "text": [
      "Images in the test folder dataset:  600\n",
      "Images in the train folder dataset:  3400\n"
     ]
    }
   ],
   "source": [
    "# defining transformations\n",
    "transforms = transforms.Compose([transforms.ToPILImage(), transforms.Resize((h_inpImg, w_inpImg)), transforms.ToTensor()])\n",
    "# splitting into two train nad test dataset\n",
    "trainDS = SaltDataset(imgPaths=trainImages, maskPaths=trainMasks, transforms=transforms)\n",
    "testDS = SaltDataset(imgPaths=testImages, maskPaths=testMasks, transforms=transforms)\n",
    "\n",
    "#training and test data loaders\n",
    "trainLoader = DataLoader(trainDS, shuffle=True, batch_size=batch_size, pin_memory=memory_usage, num_workers=os.cpu_count())\n",
    "testLoader = DataLoader(testDS, shuffle=False,\tbatch_size=batch_size, pin_memory=memory_usage,\tnum_workers=os.cpu_count())\n",
    "print(\"Images in the test folder dataset: \" , len(testDS))\n",
    "print(\"Images in the train folder dataset: \" , len(trainDS))"
   ]
  },
  {
   "cell_type": "code",
   "execution_count": null,
   "metadata": {
    "id": "wen_jO6HB3VA"
   },
   "outputs": [],
   "source": [
    "# init -the model to GPU / CPU\n",
    "unet = UNet().to(device)\n",
    "#  loss and optimizer  function\n",
    "lossFunc = BCEWithLogitsLoss()\n",
    "opt = Adam(unet.parameters(), lr=0.001)\n",
    "# steps per epoch for training and test set\n",
    "trainSteps = len(trainDS) // batch_size\n",
    "testSteps = len(testDS) // batch_size"
   ]
  },
  {
   "cell_type": "code",
   "execution_count": null,
   "metadata": {
    "colab": {
     "base_uri": "https://localhost:8080/"
    },
    "id": "DYMVbGcqB9HB",
    "outputId": "36007f0c-58e6-460b-d0ac-c678142ba3b8"
   },
   "outputs": [
    {
     "name": "stdout",
     "output_type": "stream",
     "text": [
      "Training on 30 epochs...!\n"
     ]
    },
    {
     "name": "stderr",
     "output_type": "stream",
     "text": [
      "  3%|▎         | 1/30 [02:33<1:14:12, 153.55s/it]"
     ]
    },
    {
     "name": "stdout",
     "output_type": "stream",
     "text": [
      "\n",
      " \t\t EPOCH: [1/30]\n",
      " \n",
      "[Train loss: tensor(0.5866, device='cuda:0', grad_fn=<DivBackward0>)]\n",
      "[Test loss:tensor(0.5900, device='cuda:0')]\n"
     ]
    },
    {
     "name": "stderr",
     "output_type": "stream",
     "text": [
      "\r",
      "  7%|▋         | 2/30 [02:52<34:41, 74.32s/it]   "
     ]
    },
    {
     "name": "stdout",
     "output_type": "stream",
     "text": [
      "\n",
      " \t\t EPOCH: [2/30]\n",
      " \n",
      "[Train loss: tensor(0.5669, device='cuda:0', grad_fn=<DivBackward0>)]\n",
      "[Test loss:tensor(0.5839, device='cuda:0')]\n"
     ]
    },
    {
     "name": "stderr",
     "output_type": "stream",
     "text": [
      "\r",
      " 10%|█         | 3/30 [03:10<21:48, 48.48s/it]"
     ]
    },
    {
     "name": "stdout",
     "output_type": "stream",
     "text": [
      "\n",
      " \t\t EPOCH: [3/30]\n",
      " \n",
      "[Train loss: tensor(0.5658, device='cuda:0', grad_fn=<DivBackward0>)]\n",
      "[Test loss:tensor(0.5838, device='cuda:0')]\n"
     ]
    },
    {
     "name": "stderr",
     "output_type": "stream",
     "text": [
      "\r",
      " 13%|█▎        | 4/30 [03:27<15:44, 36.35s/it]"
     ]
    },
    {
     "name": "stdout",
     "output_type": "stream",
     "text": [
      "\n",
      " \t\t EPOCH: [4/30]\n",
      " \n",
      "[Train loss: tensor(0.5634, device='cuda:0', grad_fn=<DivBackward0>)]\n",
      "[Test loss:tensor(0.5887, device='cuda:0')]\n"
     ]
    },
    {
     "name": "stderr",
     "output_type": "stream",
     "text": [
      "\r",
      " 17%|█▋        | 5/30 [03:45<12:19, 29.58s/it]"
     ]
    },
    {
     "name": "stdout",
     "output_type": "stream",
     "text": [
      "\n",
      " \t\t EPOCH: [5/30]\n",
      " \n",
      "[Train loss: tensor(0.5659, device='cuda:0', grad_fn=<DivBackward0>)]\n",
      "[Test loss:tensor(0.5791, device='cuda:0')]\n"
     ]
    },
    {
     "name": "stderr",
     "output_type": "stream",
     "text": [
      "\r",
      " 20%|██        | 6/30 [04:03<10:12, 25.54s/it]"
     ]
    },
    {
     "name": "stdout",
     "output_type": "stream",
     "text": [
      "\n",
      " \t\t EPOCH: [6/30]\n",
      " \n",
      "[Train loss: tensor(0.5579, device='cuda:0', grad_fn=<DivBackward0>)]\n",
      "[Test loss:tensor(0.5718, device='cuda:0')]\n"
     ]
    },
    {
     "name": "stderr",
     "output_type": "stream",
     "text": [
      "\r",
      " 23%|██▎       | 7/30 [04:20<08:48, 22.99s/it]"
     ]
    },
    {
     "name": "stdout",
     "output_type": "stream",
     "text": [
      "\n",
      " \t\t EPOCH: [7/30]\n",
      " \n",
      "[Train loss: tensor(0.5279, device='cuda:0', grad_fn=<DivBackward0>)]\n",
      "[Test loss:tensor(0.4445, device='cuda:0')]\n"
     ]
    },
    {
     "name": "stderr",
     "output_type": "stream",
     "text": [
      "\r",
      " 27%|██▋       | 8/30 [04:38<07:49, 21.34s/it]"
     ]
    },
    {
     "name": "stdout",
     "output_type": "stream",
     "text": [
      "\n",
      " \t\t EPOCH: [8/30]\n",
      " \n",
      "[Train loss: tensor(0.4302, device='cuda:0', grad_fn=<DivBackward0>)]\n",
      "[Test loss:tensor(0.4341, device='cuda:0')]\n"
     ]
    },
    {
     "name": "stderr",
     "output_type": "stream",
     "text": [
      "\r",
      " 30%|███       | 9/30 [04:56<07:04, 20.23s/it]"
     ]
    },
    {
     "name": "stdout",
     "output_type": "stream",
     "text": [
      "\n",
      " \t\t EPOCH: [9/30]\n",
      " \n",
      "[Train loss: tensor(0.4045, device='cuda:0', grad_fn=<DivBackward0>)]\n",
      "[Test loss:tensor(0.4003, device='cuda:0')]\n"
     ]
    },
    {
     "name": "stderr",
     "output_type": "stream",
     "text": [
      "\r",
      " 33%|███▎      | 10/30 [05:14<06:28, 19.44s/it]"
     ]
    },
    {
     "name": "stdout",
     "output_type": "stream",
     "text": [
      "\n",
      " \t\t EPOCH: [10/30]\n",
      " \n",
      "[Train loss: tensor(0.3899, device='cuda:0', grad_fn=<DivBackward0>)]\n",
      "[Test loss:tensor(0.3885, device='cuda:0')]\n"
     ]
    },
    {
     "name": "stderr",
     "output_type": "stream",
     "text": [
      "\r",
      " 37%|███▋      | 11/30 [05:32<06:00, 18.95s/it]"
     ]
    },
    {
     "name": "stdout",
     "output_type": "stream",
     "text": [
      "\n",
      " \t\t EPOCH: [11/30]\n",
      " \n",
      "[Train loss: tensor(0.3722, device='cuda:0', grad_fn=<DivBackward0>)]\n",
      "[Test loss:tensor(0.3966, device='cuda:0')]\n"
     ]
    },
    {
     "name": "stderr",
     "output_type": "stream",
     "text": [
      "\r",
      " 40%|████      | 12/30 [05:50<05:40, 18.91s/it]"
     ]
    },
    {
     "name": "stdout",
     "output_type": "stream",
     "text": [
      "\n",
      " \t\t EPOCH: [12/30]\n",
      " \n",
      "[Train loss: tensor(0.3876, device='cuda:0', grad_fn=<DivBackward0>)]\n",
      "[Test loss:tensor(0.3911, device='cuda:0')]\n"
     ]
    },
    {
     "name": "stderr",
     "output_type": "stream",
     "text": [
      "\r",
      " 43%|████▎     | 13/30 [06:08<05:15, 18.57s/it]"
     ]
    },
    {
     "name": "stdout",
     "output_type": "stream",
     "text": [
      "\n",
      " \t\t EPOCH: [13/30]\n",
      " \n",
      "[Train loss: tensor(0.3700, device='cuda:0', grad_fn=<DivBackward0>)]\n",
      "[Test loss:tensor(0.3679, device='cuda:0')]\n"
     ]
    },
    {
     "name": "stderr",
     "output_type": "stream",
     "text": [
      "\r",
      " 47%|████▋     | 14/30 [06:26<04:53, 18.37s/it]"
     ]
    },
    {
     "name": "stdout",
     "output_type": "stream",
     "text": [
      "\n",
      " \t\t EPOCH: [14/30]\n",
      " \n",
      "[Train loss: tensor(0.3603, device='cuda:0', grad_fn=<DivBackward0>)]\n",
      "[Test loss:tensor(0.3605, device='cuda:0')]\n"
     ]
    },
    {
     "name": "stderr",
     "output_type": "stream",
     "text": [
      "\r",
      " 50%|█████     | 15/30 [06:44<04:35, 18.37s/it]"
     ]
    },
    {
     "name": "stdout",
     "output_type": "stream",
     "text": [
      "\n",
      " \t\t EPOCH: [15/30]\n",
      " \n",
      "[Train loss: tensor(0.3505, device='cuda:0', grad_fn=<DivBackward0>)]\n",
      "[Test loss:tensor(0.3575, device='cuda:0')]\n"
     ]
    },
    {
     "name": "stderr",
     "output_type": "stream",
     "text": [
      "\r",
      " 53%|█████▎    | 16/30 [07:03<04:19, 18.50s/it]"
     ]
    },
    {
     "name": "stdout",
     "output_type": "stream",
     "text": [
      "\n",
      " \t\t EPOCH: [16/30]\n",
      " \n",
      "[Train loss: tensor(0.3556, device='cuda:0', grad_fn=<DivBackward0>)]\n",
      "[Test loss:tensor(0.3515, device='cuda:0')]\n"
     ]
    },
    {
     "name": "stderr",
     "output_type": "stream",
     "text": [
      "\r",
      " 57%|█████▋    | 17/30 [07:21<03:56, 18.23s/it]"
     ]
    },
    {
     "name": "stdout",
     "output_type": "stream",
     "text": [
      "\n",
      " \t\t EPOCH: [17/30]\n",
      " \n",
      "[Train loss: tensor(0.3460, device='cuda:0', grad_fn=<DivBackward0>)]\n",
      "[Test loss:tensor(0.3482, device='cuda:0')]\n"
     ]
    },
    {
     "name": "stderr",
     "output_type": "stream",
     "text": [
      "\r",
      " 60%|██████    | 18/30 [07:39<03:37, 18.09s/it]"
     ]
    },
    {
     "name": "stdout",
     "output_type": "stream",
     "text": [
      "\n",
      " \t\t EPOCH: [18/30]\n",
      " \n",
      "[Train loss: tensor(0.3566, device='cuda:0', grad_fn=<DivBackward0>)]\n",
      "[Test loss:tensor(0.3737, device='cuda:0')]\n"
     ]
    },
    {
     "name": "stderr",
     "output_type": "stream",
     "text": [
      "\r",
      " 63%|██████▎   | 19/30 [07:56<03:17, 17.98s/it]"
     ]
    },
    {
     "name": "stdout",
     "output_type": "stream",
     "text": [
      "\n",
      " \t\t EPOCH: [19/30]\n",
      " \n",
      "[Train loss: tensor(0.3447, device='cuda:0', grad_fn=<DivBackward0>)]\n",
      "[Test loss:tensor(0.3703, device='cuda:0')]\n"
     ]
    },
    {
     "name": "stderr",
     "output_type": "stream",
     "text": [
      "\r",
      " 67%|██████▋   | 20/30 [08:14<02:58, 17.86s/it]"
     ]
    },
    {
     "name": "stdout",
     "output_type": "stream",
     "text": [
      "\n",
      " \t\t EPOCH: [20/30]\n",
      " \n",
      "[Train loss: tensor(0.3461, device='cuda:0', grad_fn=<DivBackward0>)]\n",
      "[Test loss:tensor(0.3338, device='cuda:0')]\n"
     ]
    },
    {
     "name": "stderr",
     "output_type": "stream",
     "text": [
      "\r",
      " 70%|███████   | 21/30 [08:32<02:40, 17.82s/it]"
     ]
    },
    {
     "name": "stdout",
     "output_type": "stream",
     "text": [
      "\n",
      " \t\t EPOCH: [21/30]\n",
      " \n",
      "[Train loss: tensor(0.3427, device='cuda:0', grad_fn=<DivBackward0>)]\n",
      "[Test loss:tensor(0.3344, device='cuda:0')]\n"
     ]
    },
    {
     "name": "stderr",
     "output_type": "stream",
     "text": [
      "\r",
      " 73%|███████▎  | 22/30 [08:49<02:21, 17.74s/it]"
     ]
    },
    {
     "name": "stdout",
     "output_type": "stream",
     "text": [
      "\n",
      " \t\t EPOCH: [22/30]\n",
      " \n",
      "[Train loss: tensor(0.3184, device='cuda:0', grad_fn=<DivBackward0>)]\n",
      "[Test loss:tensor(0.3539, device='cuda:0')]\n"
     ]
    },
    {
     "name": "stderr",
     "output_type": "stream",
     "text": [
      "\r",
      " 77%|███████▋  | 23/30 [09:07<02:03, 17.69s/it]"
     ]
    },
    {
     "name": "stdout",
     "output_type": "stream",
     "text": [
      "\n",
      " \t\t EPOCH: [23/30]\n",
      " \n",
      "[Train loss: tensor(0.3307, device='cuda:0', grad_fn=<DivBackward0>)]\n",
      "[Test loss:tensor(0.3644, device='cuda:0')]\n"
     ]
    },
    {
     "name": "stderr",
     "output_type": "stream",
     "text": [
      "\r",
      " 80%|████████  | 24/30 [09:24<01:45, 17.56s/it]"
     ]
    },
    {
     "name": "stdout",
     "output_type": "stream",
     "text": [
      "\n",
      " \t\t EPOCH: [24/30]\n",
      " \n",
      "[Train loss: tensor(0.3331, device='cuda:0', grad_fn=<DivBackward0>)]\n",
      "[Test loss:tensor(0.5247, device='cuda:0')]\n"
     ]
    },
    {
     "name": "stderr",
     "output_type": "stream",
     "text": [
      "\r",
      " 83%|████████▎ | 25/30 [09:42<01:27, 17.56s/it]"
     ]
    },
    {
     "name": "stdout",
     "output_type": "stream",
     "text": [
      "\n",
      " \t\t EPOCH: [25/30]\n",
      " \n",
      "[Train loss: tensor(0.4287, device='cuda:0', grad_fn=<DivBackward0>)]\n",
      "[Test loss:tensor(0.3857, device='cuda:0')]\n"
     ]
    },
    {
     "name": "stderr",
     "output_type": "stream",
     "text": [
      "\r",
      " 87%|████████▋ | 26/30 [09:59<01:10, 17.56s/it]"
     ]
    },
    {
     "name": "stdout",
     "output_type": "stream",
     "text": [
      "\n",
      " \t\t EPOCH: [26/30]\n",
      " \n",
      "[Train loss: tensor(0.3467, device='cuda:0', grad_fn=<DivBackward0>)]\n",
      "[Test loss:tensor(0.3390, device='cuda:0')]\n"
     ]
    },
    {
     "name": "stderr",
     "output_type": "stream",
     "text": [
      "\r",
      " 90%|█████████ | 27/30 [10:17<00:52, 17.54s/it]"
     ]
    },
    {
     "name": "stdout",
     "output_type": "stream",
     "text": [
      "\n",
      " \t\t EPOCH: [27/30]\n",
      " \n",
      "[Train loss: tensor(0.3373, device='cuda:0', grad_fn=<DivBackward0>)]\n",
      "[Test loss:tensor(0.3367, device='cuda:0')]\n"
     ]
    },
    {
     "name": "stderr",
     "output_type": "stream",
     "text": [
      "\r",
      " 93%|█████████▎| 28/30 [10:34<00:35, 17.59s/it]"
     ]
    },
    {
     "name": "stdout",
     "output_type": "stream",
     "text": [
      "\n",
      " \t\t EPOCH: [28/30]\n",
      " \n",
      "[Train loss: tensor(0.3073, device='cuda:0', grad_fn=<DivBackward0>)]\n",
      "[Test loss:tensor(0.3441, device='cuda:0')]\n"
     ]
    },
    {
     "name": "stderr",
     "output_type": "stream",
     "text": [
      "\r",
      " 97%|█████████▋| 29/30 [10:52<00:17, 17.53s/it]"
     ]
    },
    {
     "name": "stdout",
     "output_type": "stream",
     "text": [
      "\n",
      " \t\t EPOCH: [29/30]\n",
      " \n",
      "[Train loss: tensor(0.3171, device='cuda:0', grad_fn=<DivBackward0>)]\n",
      "[Test loss:tensor(0.3002, device='cuda:0')]\n"
     ]
    },
    {
     "name": "stderr",
     "output_type": "stream",
     "text": [
      "100%|██████████| 30/30 [11:10<00:00, 22.35s/it]"
     ]
    },
    {
     "name": "stdout",
     "output_type": "stream",
     "text": [
      "\n",
      " \t\t EPOCH: [30/30]\n",
      " \n",
      "[Train loss: tensor(0.2927, device='cuda:0', grad_fn=<DivBackward0>)]\n",
      "[Test loss:tensor(0.3169, device='cuda:0')]\n"
     ]
    },
    {
     "name": "stderr",
     "output_type": "stream",
     "text": [
      "\n"
     ]
    }
   ],
   "source": [
    "EPOCHS = 30 # number of epochs\n",
    "print(\"Training on \"+str(EPOCHS)+ \" epochs...!\")\n",
    "for each in tqdm(range(EPOCHS)):\n",
    "\tunet.train()\n",
    "\t# set training and validation loss to zero\n",
    "\tTrainLoss = 0\n",
    "\tTestLoss = 0\n",
    "\t# looping for training data\n",
    "\tfor (i, (x, y)) in enumerate(trainLoader):\n",
    "\t\t(x, y) = (x.to(device), y.to(device))\n",
    "\t\t#  calculate the training loss / pred\n",
    "\t\tpred = unet(x)\n",
    "\t\tloss = lossFunc(pred, y)\n",
    "\t\t#  zero  gradients, then backpropagation, \n",
    "\t\topt.zero_grad()\n",
    "\t\tloss.backward()\n",
    "\t\topt.step()\n",
    "\t\t# add the loss to the total training loss so far\n",
    "\t\tTrainLoss += loss\n",
    "\t# no need autograd computationsaa\n",
    "\twith torch.no_grad():\n",
    "\t\t# set the model in evaluation mode\n",
    "\t\tunet.eval()\n",
    "\t\t# loop over the validation set\n",
    "\t\tfor (x, y) in testLoader:\n",
    "\t\t\t\n",
    "\t\t\t(x, y) = (x.to(device), y.to(device))\n",
    "\t\t\t# make the predictions and calculate the validation loss\n",
    "\t\t\tpred = unet(x)\n",
    "\t\t\tTestLoss += lossFunc(pred, y)\n",
    "\t# calculate the average training and validation loss\n",
    "\tavg_train_loss = TrainLoss / trainSteps\n",
    "\tavg_test_loss = TestLoss / testSteps\n",
    "\tprint(\"\\n \\t\\t EPOCH: [\"  +str(each + 1)+ \"/\"  +str(EPOCHS)+ \"]\\n \")\n",
    "\tprint(\"[Train loss: \"+str(avg_train_loss)+\"]\\n[Test loss:\"+ str(avg_test_loss)+\"]\")\n",
    "\t"
   ]
  },
  {
   "cell_type": "code",
   "execution_count": null,
   "metadata": {
    "id": "g357XsGACDWl"
   },
   "outputs": [],
   "source": []
  },
  {
   "cell_type": "markdown",
   "metadata": {
    "id": "4Ua_bbf6gdXj"
   },
   "source": [
    "### Making a prediction on test image "
   ]
  },
  {
   "cell_type": "code",
   "execution_count": null,
   "metadata": {
    "id": "ggac3EL7ggjz"
   },
   "outputs": [],
   "source": []
  },
  {
   "cell_type": "code",
   "execution_count": null,
   "metadata": {
    "colab": {
     "base_uri": "https://localhost:8080/",
     "height": 383
    },
    "id": "eamvlfnkgqoE",
    "outputId": "59d129c9-d46e-4d3f-ed90-eb1637123dba"
   },
   "outputs": [
    {
     "data": {
      "image/png": "[encoded data removed]",
      "text/plain": [
       "<Figure size 1080x1080 with 3 Axes>"
      ]
     },
     "metadata": {
      "needs_background": "light"
     },
     "output_type": "display_data"
    }
   ],
   "source": [
    "from google.colab.patches import cv2_imshow\n",
    "# saving the model \n",
    "torch.save(unet.state_dict(), '/content/drive/MyDrive/dataset2/MODEL.pth')\n",
    "unet.load_state_dict(torch.load('/content/drive/MyDrive/dataset2/MODEL.pth'))\n",
    "unet.eval()\n",
    "# no need of gradient computing\n",
    "with torch.no_grad():\n",
    "  # image test file name\n",
    "  # filename = 'fff987cdb3mask.png'\n",
    "  pixels = 255.0\n",
    "  maskOftestImage = '/content/drive/MyDrive/dataset2/fff987cdb3mask.png'\n",
    "  maskOftestImage = cv2.imread(maskOftestImage, 0)\n",
    "  maskOftestImage = cv2.resize(maskOftestImage, (w_inpImg,h_inpImg))\n",
    "\n",
    "  # a test image proceesed for prediction scaling its values to 255 rane \n",
    "  test_image = cv2.imread('/content/drive/MyDrive/dataset2/fff987cdb3image.png')\n",
    "  test_image = cv2.cvtColor(test_image, cv2.COLOR_BGR2RGB)\n",
    "  test_image = test_image.astype(\"float32\")\n",
    "  test_image = test_image / pixels\n",
    "\n",
    "  # changing dimebntions of image to our default size\n",
    "  test_image = cv2.resize(test_image, (w_inpImg, h_inpImg))\n",
    "  orig_test_image = test_image.copy()# genrating a copy for visualization purpose\n",
    "\n",
    "  # creating a tensor of the given test image\n",
    "  test_image = np.transpose(test_image, (2, 0, 1))\n",
    "  test_image = np.expand_dims(test_image, 0)\n",
    "  test_image = torch.from_numpy(test_image).to(device)\n",
    "  #predicting on test image passing it to tanh and convertint it to numpy \n",
    "  pred_testMask = unet(test_image).squeeze() # sueezing it by dimentions \n",
    "  pred_testMask = torch.sigmoid(pred_testMask) #// pred is almost equal to tanh and relu fn\n",
    "  pred_testMask = pred_testMask.cpu().numpy()\n",
    "  # used a threshold of 0.5 to filter the best / good prediction\n",
    "  pred_testMask = (pred_testMask > 0.5) * int(pixels)\n",
    "  pred_testMask = pred_testMask.astype(np.uint8)\n",
    "  # plotting the output\n",
    "  fig, axis = plt.subplots(nrows=1, ncols=3, figsize=(15, 15))\n",
    "  axis[0].set_title(\"Test Image\")\n",
    "  axis[1].set_title(\"Original Mask\")\n",
    "  axis[2].set_title(\"Predicted Mask\")\n",
    "  axis[0].imshow(orig_test_image)\n",
    "  axis[2].imshow(pred_testMask)\n",
    "  axis[1].imshow(maskOftestImage)\n",
    "\n",
    "  fig.tight_layout()\n",
    "  fig.show()"
   ]
  },
  {
   "cell_type": "code",
   "execution_count": null,
   "metadata": {
    "id": "2kvBBokc0znz"
   },
   "outputs": [],
   "source": [
    "# from google.colab import drive\n",
    "# drive.mount('/content/drive')"
   ]
  },
  {
   "cell_type": "markdown",
   "metadata": {
    "id": "SmLHQkFwam8k"
   },
   "source": [
    "# Using a pretrained model\n"
   ]
  },
  {
   "cell_type": "code",
   "execution_count": null,
   "metadata": {
    "id": "_FlrcOHChG49"
   },
   "outputs": [],
   "source": [
    "!pip install segmentation_models_pytorch\n",
    "import segmentation_models_pytorch as smp"
   ]
  },
  {
   "cell_type": "code",
   "execution_count": null,
   "metadata": {
    "id": "aFmqonPKi5a3"
   },
   "outputs": [],
   "source": [
    "import segmentation_models_pytorch as smp\n",
    "pretrainedUnet=smp.Unet()"
   ]
  },
  {
   "cell_type": "code",
   "execution_count": null,
   "metadata": {
    "id": "ld1BCOaRawry"
   },
   "outputs": [],
   "source": [
    "# no need of gradient computing\n",
    "pretrainedUnet.eval()\n",
    "with torch.no_grad():\n",
    "  # image test file name\n",
    "  # filename = 'fff987cdb3mask.png'\n",
    "  pixels = 255.0\n",
    "  maskOftestImage = '/content/drive/MyDrive/dataset2/fff987cdb3mask.png'\n",
    "  maskOftestImage = cv2.imread(maskOftestImage, 0)\n",
    "  maskOftestImage = cv2.resize(maskOftestImage, (w_inpImg,h_inpImg))\n",
    "\n",
    "  # a test image proceesed for prediction scaling its values to 255 rane \n",
    "  test_image = cv2.imread('/content/drive/MyDrive/dataset2/fff987cdb3image.png')\n",
    "  test_image = cv2.cvtColor(test_image, cv2.COLOR_BGR2RGB)\n",
    "  test_image = test_image.astype(\"float32\")\n",
    "  test_image = test_image / pixels\n",
    "\n",
    "  # changing dimebntions of image to our default size\n",
    "  test_image = cv2.resize(test_image, (w_inpImg, h_inpImg))\n",
    "  orig_test_image = test_image.copy()# genrating a copy for visualization purpose\n",
    "\n",
    "  # creating a tensor of the given test image\n",
    "  test_image = np.transpose(test_image, (2, 0, 1))\n",
    "  test_image = np.expand_dims(test_image, 0)\n",
    "  test_image = torch.from_numpy(test_image).to(device)\n",
    "  #predicting on test image passing it to tanh and convertint it to numpy \n",
    "  pred_testMask = pretrainedUnet(test_image).squeeze() # sueezing it by dimentions \n",
    "  pred_testMask = torch.sigmoid(pred_testMask) #// pred is almost equal to tanh and relu fn\n",
    "  pred_testMask = pred_testMask.cpu().numpy()\n",
    "  # used a threshold of 0.5 to filter the best / good prediction\n",
    "  pred_testMask = (pred_testMask > 0.5) * int(pixels)\n",
    "  pred_testMask = pred_testMask.astype(np.uint8)\n",
    "  # plotting the output\n",
    "  fig, axis = plt.subplots(nrows=1, ncols=3, figsize=(15, 15))\n",
    "  axis[0].set_title(\"Test Image\")\n",
    "  axis[1].set_title(\"Original Mask\")\n",
    "  axis[2].set_title(\"Pretrained Mask\")\n",
    "  axis[0].imshow(orig_test_image)\n",
    "  axis[2].imshow(pred_testMask)\n",
    "  axis[1].imshow(maskOftestImage)\n",
    "\n",
    "  fig.tight_layout()\n",
    "  fig.show()"
   ]
  },
  {
   "cell_type": "code",
   "execution_count": null,
   "metadata": {
    "id": "DSnveF8qawfy"
   },
   "outputs": [],
   "source": []
  }
 ],
 "metadata": {
  "accelerator": "GPU",
  "colab": {
   "provenance": []
  },
  "gpuClass": "standard",
  "kernelspec": {
   "display_name": "Python 3 (ipykernel)",
   "language": "python",
   "name": "python3"
  },
  "language_info": {
   "codemirror_mode": {
    "name": "ipython",
    "version": 3
   },
   "file_extension": ".py",
   "mimetype": "text/x-python",
   "name": "python",
   "nbconvert_exporter": "python",
   "pygments_lexer": "ipython3",
   "version": "3.10.2"
  }
 },
 "nbformat": 4,
 "nbformat_minor": 1
}
